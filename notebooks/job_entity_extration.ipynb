{
 "cells": [
  {
   "cell_type": "markdown",
   "metadata": {},
   "source": [
    "# Import Libraries"
   ]
  },
  {
   "cell_type": "code",
   "execution_count": 1,
   "metadata": {},
   "outputs": [],
   "source": [
    "import sys,os,logging\n",
    "sys.path.insert(0,'../scripts/')\n",
    "from cohere_entity_extraction import cohere_extractor\n",
    "from preprocessor import input_preprocessor\n",
    "from data_fetch import get_job_data\n",
    "import config,mlflow \n",
    "\n",
    "logging.basicConfig(filename='../log/log.log', filemode='a',encoding='utf-8', level=logging.DEBUG)"
   ]
  },
  {
   "cell_type": "markdown",
   "metadata": {},
   "source": [
    "# Get the data"
   ]
  },
  {
   "cell_type": "code",
   "execution_count": 2,
   "metadata": {},
   "outputs": [],
   "source": [
    "job_training_data = get_job_data(path='data/relations_dev.txt',repo='C:/Users/User/Desktop/Prompt-Engineering',version='relations_dev.txt_v1')\n",
    "job_test_data = get_job_data(path='data/relations_test.txt',repo='C:/Users/User/Desktop/Prompt-Engineering',version='relations_test_v1')\n",
    "\n"
   ]
  },
  {
   "cell_type": "code",
   "execution_count": 3,
   "metadata": {},
   "outputs": [
    {
     "data": {
      "text/html": [
       "<div>\n",
       "<style scoped>\n",
       "    .dataframe tbody tr th:only-of-type {\n",
       "        vertical-align: middle;\n",
       "    }\n",
       "\n",
       "    .dataframe tbody tr th {\n",
       "        vertical-align: top;\n",
       "    }\n",
       "\n",
       "    .dataframe thead th {\n",
       "        text-align: right;\n",
       "    }\n",
       "</style>\n",
       "<table border=\"1\" class=\"dataframe\">\n",
       "  <thead>\n",
       "    <tr style=\"text-align: right;\">\n",
       "      <th></th>\n",
       "      <th>document</th>\n",
       "      <th>tokens</th>\n",
       "      <th>relations</th>\n",
       "    </tr>\n",
       "  </thead>\n",
       "  <tbody>\n",
       "    <tr>\n",
       "      <th>0</th>\n",
       "      <td>Bachelor's degree in Mechanical Engineering or...</td>\n",
       "      <td>[{'text': 'Bachelor', 'start': 0, 'end': 8, 't...</td>\n",
       "      <td>[{'child': 4, 'head': 0, 'relationLabel': 'DEG...</td>\n",
       "    </tr>\n",
       "    <tr>\n",
       "      <th>1</th>\n",
       "      <td>10+ years of software engineering work experie...</td>\n",
       "      <td>[{'text': '10+ years', 'start': 0, 'end': 9, '...</td>\n",
       "      <td>[{'child': 4, 'head': 0, 'relationLabel': 'EXP...</td>\n",
       "    </tr>\n",
       "    <tr>\n",
       "      <th>2</th>\n",
       "      <td>3+ years Swift &amp; Objective-C and experience wi...</td>\n",
       "      <td>[{'text': '3+ years', 'start': 0, 'end': 8, 't...</td>\n",
       "      <td>[{'child': 3, 'head': 0, 'relationLabel': 'EXP...</td>\n",
       "    </tr>\n",
       "    <tr>\n",
       "      <th>3</th>\n",
       "      <td>8+ years experience in software engineering le...</td>\n",
       "      <td>[{'text': '8+ years', 'start': 0, 'end': 8, 't...</td>\n",
       "      <td>[{'child': 5, 'head': 0, 'relationLabel': 'EXP...</td>\n",
       "    </tr>\n",
       "    <tr>\n",
       "      <th>4</th>\n",
       "      <td>BS degree in Computer Science or related field...</td>\n",
       "      <td>[{'text': 'BS', 'start': 0, 'end': 2, 'token_s...</td>\n",
       "      <td>[{'child': 3, 'head': 0, 'relationLabel': 'DEG...</td>\n",
       "    </tr>\n",
       "  </tbody>\n",
       "</table>\n",
       "</div>"
      ],
      "text/plain": [
       "                                            document  \\\n",
       "0  Bachelor's degree in Mechanical Engineering or...   \n",
       "1  10+ years of software engineering work experie...   \n",
       "2  3+ years Swift & Objective-C and experience wi...   \n",
       "3  8+ years experience in software engineering le...   \n",
       "4  BS degree in Computer Science or related field...   \n",
       "\n",
       "                                              tokens  \\\n",
       "0  [{'text': 'Bachelor', 'start': 0, 'end': 8, 't...   \n",
       "1  [{'text': '10+ years', 'start': 0, 'end': 9, '...   \n",
       "2  [{'text': '3+ years', 'start': 0, 'end': 8, 't...   \n",
       "3  [{'text': '8+ years', 'start': 0, 'end': 8, 't...   \n",
       "4  [{'text': 'BS', 'start': 0, 'end': 2, 'token_s...   \n",
       "\n",
       "                                           relations  \n",
       "0  [{'child': 4, 'head': 0, 'relationLabel': 'DEG...  \n",
       "1  [{'child': 4, 'head': 0, 'relationLabel': 'EXP...  \n",
       "2  [{'child': 3, 'head': 0, 'relationLabel': 'EXP...  \n",
       "3  [{'child': 5, 'head': 0, 'relationLabel': 'EXP...  \n",
       "4  [{'child': 3, 'head': 0, 'relationLabel': 'DEG...  "
      ]
     },
     "execution_count": 3,
     "metadata": {},
     "output_type": "execute_result"
    }
   ],
   "source": [
    "job_training_data.head()"
   ]
  },
  {
   "cell_type": "code",
   "execution_count": 4,
   "metadata": {},
   "outputs": [
    {
     "data": {
      "text/html": [
       "<div>\n",
       "<style scoped>\n",
       "    .dataframe tbody tr th:only-of-type {\n",
       "        vertical-align: middle;\n",
       "    }\n",
       "\n",
       "    .dataframe tbody tr th {\n",
       "        vertical-align: top;\n",
       "    }\n",
       "\n",
       "    .dataframe thead th {\n",
       "        text-align: right;\n",
       "    }\n",
       "</style>\n",
       "<table border=\"1\" class=\"dataframe\">\n",
       "  <thead>\n",
       "    <tr style=\"text-align: right;\">\n",
       "      <th></th>\n",
       "      <th>document</th>\n",
       "      <th>tokens</th>\n",
       "      <th>relations</th>\n",
       "    </tr>\n",
       "  </thead>\n",
       "  <tbody>\n",
       "    <tr>\n",
       "      <th>0</th>\n",
       "      <td>\\nCurrently holding a faculty, industry, or go...</td>\n",
       "      <td>[{'text': 'Ph.D.', 'start': 75, 'end': 80, 'to...</td>\n",
       "      <td>[{'child': 18, 'head': 14, 'relationLabel': 'D...</td>\n",
       "    </tr>\n",
       "    <tr>\n",
       "      <th>1</th>\n",
       "      <td>\\n2+ years experience in the online advertisin...</td>\n",
       "      <td>[{'text': '2+ years', 'start': 1, 'end': 9, 't...</td>\n",
       "      <td>[{'child': 7, 'head': 1, 'relationLabel': 'EXP...</td>\n",
       "    </tr>\n",
       "    <tr>\n",
       "      <th>2</th>\n",
       "      <td>\\nBA/BS\\n5+ years of program or project manage...</td>\n",
       "      <td>[{'text': '5+ years', 'start': 7, 'end': 15, '...</td>\n",
       "      <td>[{'child': 11, 'head': 5, 'relationLabel': 'EX...</td>\n",
       "    </tr>\n",
       "    <tr>\n",
       "      <th>3</th>\n",
       "      <td>\\nCurrently enrolled in a full-time degree pro...</td>\n",
       "      <td>[{'text': 'Ph.D.', 'start': 801, 'end': 806, '...</td>\n",
       "      <td>[{'child': 140, 'head': 137, 'relationLabel': ...</td>\n",
       "    </tr>\n",
       "    <tr>\n",
       "      <th>4</th>\n",
       "      <td>\\nCurrently enrolled in a full-time degree pro...</td>\n",
       "      <td>[{'text': 'Ph.D.', 'start': 801, 'end': 806, '...</td>\n",
       "      <td>[{'child': 140, 'head': 137, 'relationLabel': ...</td>\n",
       "    </tr>\n",
       "  </tbody>\n",
       "</table>\n",
       "</div>"
      ],
      "text/plain": [
       "                                            document  \\\n",
       "0  \\nCurrently holding a faculty, industry, or go...   \n",
       "1  \\n2+ years experience in the online advertisin...   \n",
       "2  \\nBA/BS\\n5+ years of program or project manage...   \n",
       "3  \\nCurrently enrolled in a full-time degree pro...   \n",
       "4  \\nCurrently enrolled in a full-time degree pro...   \n",
       "\n",
       "                                              tokens  \\\n",
       "0  [{'text': 'Ph.D.', 'start': 75, 'end': 80, 'to...   \n",
       "1  [{'text': '2+ years', 'start': 1, 'end': 9, 't...   \n",
       "2  [{'text': '5+ years', 'start': 7, 'end': 15, '...   \n",
       "3  [{'text': 'Ph.D.', 'start': 801, 'end': 806, '...   \n",
       "4  [{'text': 'Ph.D.', 'start': 801, 'end': 806, '...   \n",
       "\n",
       "                                           relations  \n",
       "0  [{'child': 18, 'head': 14, 'relationLabel': 'D...  \n",
       "1  [{'child': 7, 'head': 1, 'relationLabel': 'EXP...  \n",
       "2  [{'child': 11, 'head': 5, 'relationLabel': 'EX...  \n",
       "3  [{'child': 140, 'head': 137, 'relationLabel': ...  \n",
       "4  [{'child': 140, 'head': 137, 'relationLabel': ...  "
      ]
     },
     "execution_count": 4,
     "metadata": {},
     "output_type": "execute_result"
    }
   ],
   "source": [
    "job_test_data.head()"
   ]
  },
  {
   "cell_type": "markdown",
   "metadata": {},
   "source": [
    "# Get API key"
   ]
  },
  {
   "cell_type": "code",
   "execution_count": 5,
   "metadata": {},
   "outputs": [],
   "source": [
    "api_key =config.cohere_api['api_key']"
   ]
  },
  {
   "cell_type": "markdown",
   "metadata": {},
   "source": [
    "# Process training data"
   ]
  },
  {
   "cell_type": "code",
   "execution_count": 3,
   "metadata": {},
   "outputs": [
    {
     "data": {
      "text/plain": [
       "[\"Bachelor's degree in Mechanical Engineering or Physical Science 3+ years track record of developing or specifying fiber optic cables and connector related products Knowledge of fiber optic component, cabling, and interconnect products, technologies, and standards Experience in statistical data analysis Experience with product life cycle management (PLM) process Experience providing solutions to problems and meeting deadlines Experience engaging stakeholders PREFERRED Advanced degree Experience using a software tool for statistical data analysis such as JMP Experience using Agile as product life-cycle management tool Data center or other mission critical development experience\\n\\nout put:\\nDIPLOMA:Bachelor\\nDIPLOMA_MAJOR:Mechanical Engineering,Physical Science\\nEXPERIENCE:3+ years\\nSKILLS:developing,fiber optic cables,connector related products\\n--end--\\n\",\n",
       " '10+ years of software engineering work experience. Technical experience in release automation engineering, CI/CD or related roles. Experience building and leading a software organization through product design, delivery and commercialization of consumer electronics devices. Experience recruiting and managing technical teams, including performance management. BS/MS in Computer Science. Experience in leading timeline, multi-partner initiatives. Organizational communication and coordination experience. PREFERRED 5+ years of experience with hands-on technical management, release engineering, tools engineering, DevOps, or related area.\\n\\nout put:\\nEXPERIENCE:10+ years,5+ years\\nSKILLS:software engineering,technical management,release engineering,tools engineering,DevOps\\nDIPLOMA:BS/MS\\nDIPLOMA_MAJOR:Computer Science\\n--end--\\n',\n",
       " '3+ years Swift & Objective-C and experience with iOS internals Experience building an entire app from scratch and ideally a portfolio of apps featured in the App Store Someone who knows every trick in the book on UI transitions, network communication and memory/battery efficiency Strong UI/design skill experience is a plus\\n\\nout put:\\nEXPERIENCE:3+ years\\nSKILLS:Swift & Objective-C\\n--end--\\n',\n",
       " '8+ years experience in software engineering leadership 5+ years people management experience including managing leaders and managing remotely across regions Strategic thinker with proven track record of transforming operations to provide customer experience through innovation and improvement Track record of working with VP, C-level Executives Experience deploying operational support models across enterprise organizations Communication/presentations experience Experience working with all levels of management internally and externally Experience meeting objectives in an entrepreneurial environment Collaboration and relationship-building experience BA/BS degree or higher\\n\\nout put:\\nEXPERIENCE:8+ years,5+ years\\nSKILLS:software engineering,people management,managing leaders\\n--end--\\n',\n",
       " 'BS degree in Computer Science or related field. 7+ years C++ experience, including C++11 features and principles. 5+ years experience creating software for real-time environments such as games or robotics. 2+ years experience managing software engineers. Proven track record of software development, including shipping one or more products on large code bases that span platforms and tools. Problem solving and optimization experience. Communication experience and demonstrated experience working across disciplines and teams to drive solutions. PREFERRED Hands-on experience with 3D computer vision algorithms including Calibration, SLAM, Reconstruction, Mapping, Localization, Sensor Fusion, State Estimation and Image Processing Experience with designing (products or open-source/git software) of inertial/optical sensing devices Publication in leading workshops or conferences such as CVPR, ECCV, ICCV, SIGGRAPH, ICCP, RSS, ICRA, etc.\\n\\nout put:\\nDIPLOMA:BS\\nDIPLOMA_MAJOR:Computer Science\\nEXPERIENCE:7+ years,5+ years,2+ years\\nSKILLS:C++,C++11,creating software for real-time environments,games,robotics,managing software engineers\\n--end--\\n']"
      ]
     },
     "execution_count": 3,
     "metadata": {},
     "output_type": "execute_result"
    }
   ],
   "source": [
    "#Preprocess data to make it suitable for the use as examples for our API\n",
    "job_training_data_processed = input_preprocessor(job_training_data.head(n=5))\n",
    "\n",
    "job_training_data_processed"
   ]
  },
  {
   "cell_type": "markdown",
   "metadata": {},
   "source": [
    "# Extract entities from test data\n",
    "\n",
    " we have to optimize the number of prompts we give the API to get the best out of our model. We have also structured our traing and input data and provided a delimiter."
   ]
  },
  {
   "cell_type": "code",
   "execution_count": 12,
   "metadata": {},
   "outputs": [
    {
     "name": "stdout",
     "output_type": "stream",
     "text": [
      "  DIPLOMA:Ph.D  DIPLOMA_MAJOR:Computer Science  EXPERIENCE:1+ year(s)  SKILLS:machine learning,AI,computer science,statistics,applied mathematics,data science,research  --end-\n",
      "  EXPERIENCE:2+ years  SKILLS:presenting,partnering with technical and non-technical teams,communicating analyses,data-sets,statistical software,data extraction tools,sql  DIPLOMA:BS/BA  DIPLOMA_MAJOR:Economics,Statistics,Political Science,History,Psychology  --end-\n",
      "  EXPERIENCE:5+ years,2+ years  SKILLS:program or project management,technical project/program management,user needs,gathering requirements,defining scope,communication experience  --end-\n",
      "  DIPLOMA:BS  DIPLOMA_MAJOR:Computer Science  SKILLS:Python,Lua,C++,C,C#,Java  EXPERIENCE:1+ years  --end-\n",
      "  DIPLOMA:BS  DIPLOMA_MAJOR:Computer Science  EXPERIENCE:3+ years  SKILLS:Python,Lua,C++,C,C#,Java  --end-\n",
      "  DIPLOMA:MS,PhD  DIPLOMA_MAJOR:Operations Research,Industrial Engineering,Quantitative Finance,Math,Physics  EXPERIENCE:7+ years,5+ years,2+ years  SKILLS:Statistics & Probability,Hypothesis testing,Regression,Stochastic modeling,Markov Chains  --end-\n",
      "  EXPERIENCE:5+ years,7+ years,10+ years  SKILLS:Physics,Electrical Engineering,Computer Science,ML/AI,systems,data analytics,communication systems  --end-\n",
      "  DIPLOMA:PhD  DIPLOMA_MAJOR:Computer Science  EXPERIENCE:5+ years,3+ years,1+ years  SKILLS:research,qualitative research,quantitative research,problem solving,optimization,  --end-\n"
     ]
    }
   ],
   "source": [
    "mlflow.set_experiment(\"Large language model\")\n",
    "mlflow.log_param('Model','large')\n",
    "mlflow.log_param('Max tokens ',100)\n",
    "mlflow.log_param('Temperature',0.5)\n",
    "mlflow.log_param('Stop sequences',\"--end--\")\n",
    "\n",
    "if not os.path.exists(\"Large language model entity extraction prompts\"):\n",
    "    os.makedirs(\"Large language model entity extraction prompts\")\n",
    "with open(\"Large language model entity extraction prompts/prompts.txt\", \"w\") as f:\n",
    "            f.write(job_training_data_processed)\n",
    "mlflow.log_artifacts(\"Large language model entity extraction prompts\")\n",
    "\n",
    "for each in job_test_data.head(n=8)['document']:\n",
    "    prom = str(each)+'\\n\\nout put:'\n",
    "    extractor = cohere_extractor(api_key,job_training_data_processed,prom)\n",
    "    print(extractor.replace('--end--','').replace('\\n','  '))\n"
   ]
  },
  {
   "cell_type": "code",
   "execution_count": 6,
   "metadata": {},
   "outputs": [
    {
     "name": "stderr",
     "output_type": "stream",
     "text": [
      "2022/09/17 17:05:09 INFO mlflow.tracking.fluent: Experiment with name 'Large language model entity extraction' does not exist. Creating a new experiment.\n"
     ]
    }
   ],
   "source": [
    "mlflow.set_experiment(\"Large language model entity extraction\")\n",
    "mlflow.log_param('Model','large')\n",
    "mlflow.log_param('Max tokens ',100)\n",
    "mlflow.log_param('Temperature',0.5)\n",
    "mlflow.log_param('Stop sequences',\"--end--\")\n",
    "\n",
    "if not os.path.exists(\"Large language model entity extraction prompts\"):\n",
    "    os.makedirs(\"Large language model entity extraction prompts\")\n",
    "with open(\"Large language model entity extraction prompts/prompts.txt\", \"w\") as f:\n",
    "            f.write(job_training_data_processed[0])\n",
    "mlflow.log_artifacts(\"Large language model entity extraction prompts\")"
   ]
  }
 ],
 "metadata": {
  "interpreter": {
   "hash": "63fd5069d213b44bf678585dea6b12cceca9941eaf7f819626cde1f2670de90d"
  },
  "kernelspec": {
   "display_name": "Python 3.9.1 64-bit",
   "language": "python",
   "name": "python3"
  },
  "language_info": {
   "codemirror_mode": {
    "name": "ipython",
    "version": 3
   },
   "file_extension": ".py",
   "mimetype": "text/x-python",
   "name": "python",
   "nbconvert_exporter": "python",
   "pygments_lexer": "ipython3",
   "version": "3.9.1"
  },
  "orig_nbformat": 4
 },
 "nbformat": 4,
 "nbformat_minor": 2
}
